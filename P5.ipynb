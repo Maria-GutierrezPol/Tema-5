{
 "cells": [
  {
   "cell_type": "markdown",
   "metadata": {},
   "source": [
    "---\n",
    "### Universidad de Costa Rica\n",
    "#### IE0405 - Modelos Probabilísticos de Señales y Sistemas\n",
    "---\n",
    "\n",
    "- Estudiante: **María José Gutiérrez Pol**\n",
    "- Carné: **B83679**\n",
    "- Estudiante: **Susan Moraga López**\n",
    "- Carné: **B75140**\n",
    "\n",
    "- Grupo: **2**\n",
    "\n",
    "## Proyecto 5 - Simulación de un sistema M/M/1\n",
    "\n",
    "Es menester tomar una decisión con respecto al número de \"servidores\" necesarios para cierto proceso de vacunación, de forma tal que el sistema no exceda 50 personas en fila durante el 95% del tiempo de servicio. \n",
    "\n",
    "En un estudio de afluencia y del tiempo de servicio se asumen y determinan los siguientes parámetros:\n",
    "\n",
    "- La tasa de llegada $\\lambda$ es constante durante ocho horas de funcionamiento y tiene un valor de $\\lambda = 4$ personas por minuto.\n",
    "\n",
    "- La tasa de servicio $\\nu$ de cada \"servidor\" (es decir, personal de salud tomando datos y vacunando) es constante durante ocho horas de funcionamiento y tiene un valor de $\\nu = 0.25$ personas por minuto."
   ]
  },
  {
   "cell_type": "markdown",
   "metadata": {},
   "source": [
    "## Parte A - Determinación del número de servidores\n",
    "\n",
    "El parámetro de umbral de ruptura a utilizar para esta situación corresponde a cuando el sistema llega a las 51 personas. Entonces, como en el anterior ejemplo, se tiene la siguiente expresión:\n",
    "\n",
    "$$\n",
    "P( \\text{51 o más clientes en el sistema} ) = \\sum_{i=51}^{\\infty} (1 - \\rho) \\rho^i  = 1 - \\sum_{i=0}^{50} (1 - \\rho) \\rho^i = \\rho^{51}\n",
    "$$\n",
    "\n",
    "Y se sabe que $\\rho$ corresponde a:\n",
    "\n",
    "$$\n",
    "\\rho = \\frac{\\lambda}{s \\cdot \\nu}\n",
    "$$\n",
    "\n",
    "Por lo que se tiene la siguiente expresión:\n",
    "$$\n",
    "P( \\text{51 o más clientes en el sistema} ) = \\left ( \\frac{\\lambda}{s \\cdot \\nu} \\right )^{51}\n",
    "$$\n",
    "\n",
    "Se sabe también que esta condición de ruptura aplica para el 95 % del tiempo, por lo que:\n",
    "\n",
    "$$\n",
    "\\left ( \\frac{\\lambda}{s \\cdot \\nu} \\right )^{51} \\leq \\ 0.05\n",
    "$$\n",
    "\n",
    "De esta manera, se despeja para encontrar $s$ que corresponde al número de servidores igualando a 0.05. Para ello se utiliza: $\\lambda = 4$ y $\\nu = 0.25$:\n",
    "\n",
    "$$\n",
    "\\left ( \\frac{\\lambda}{s \\cdot \\nu} \\right )^{51} = \\ 0.05\n",
    "$$\n",
    "\n",
    "$$\n",
    "\\rightarrow \\sqrt[51]{0.05} = \\frac{\\lambda}{s \\cdot \\nu}\n",
    "$$\n",
    "\n",
    "\n",
    "$$\n",
    "\\rightarrow s = \\frac{\\lambda}{\\sqrt[51]{0.05} \\cdot \\nu}\n",
    "$$\n",
    "\n",
    "$$\n",
    "\\rightarrow s = \\frac{4}{\\sqrt[51]{0.05} \\cdot 0.25} = 16.97 \n",
    "$$\n",
    "\n",
    "Por lo que se requieren al menos 17 servidores."
   ]
  },
  {
   "cell_type": "code",
   "execution_count": 2,
   "metadata": {},
   "outputs": [],
   "source": [
    "#Parte B - Simulación\n",
    "\n",
    "import numpy as np\n",
    "from scipy import stats\n",
    "import matplotlib.pyplot as plt\n",
    "\n",
    "def vacunacion(numero):\n",
    "    \n",
    "    # Número de clientes\n",
    "    N = 1000\n",
    "\n",
    "    # Parámetro de llegada (clientes/segundos)\n",
    "    lam = 4/60\n",
    "\n",
    "    # Parámetro de servicio (servicios/segundos)\n",
    "    nu = 0.25/60\n",
    "\n",
    "    #Número de servidores\n",
    "\n",
    "    s = numero\n",
    "\n",
    "    # Distribución de los tiempos de llegada entre cada cliente\n",
    "    X = stats.expon(scale = 1/lam)\n",
    "\n",
    "    # Distribución de los tiempos de servicio a cada cliente\n",
    "    Y = stats.expon(scale = 1/nu)\n",
    "\n",
    "    # Intervalos entre llegadas (segundos desde último cliente)\n",
    "    t_intervalos = np.ceil(X.rvs(N)).astype('int')\n",
    "\n",
    "    # Tiempos de las llegadas (segundos desde el inicio)\n",
    "    t_llegadas = [t_intervalos[0]]\n",
    "    for i in range(1, len(t_intervalos)):\n",
    "        siguiente = t_llegadas[i-1] + t_intervalos[i]\n",
    "        t_llegadas.append(siguiente)\n",
    "\n",
    "    # Tiempos de servicio (segundos desde inicio de servicio)\n",
    "    t_servicio = np.ceil(Y.rvs(N)).astype('int')\n",
    "\n",
    "    #Se establecen vectores con tiempos de fin de servicio de cada servidor-------------------------\n",
    "    servidores = np.zeros(s)\n",
    "\n",
    "    # Inicialización del tiempo de inicio y fin de atención para el primer cliente\n",
    "    inicio = t_llegadas[0]          # primera llegada\n",
    "    fin = inicio + t_servicio[0]    # primera salida\n",
    "\n",
    "    #Se requiere hacer la asignación del primer cliente\n",
    "    servidores[0] = fin\n",
    "\n",
    "    # Tiempos en que recibe atención cada i-ésimo cliente (!= que llega)\n",
    "    t_atencion = [inicio]\n",
    "    for i in range(1, N):\n",
    "        desocupados = np.where(servidores <= t_llegadas[i])[0]\n",
    "        if desocupados.size == 0:\n",
    "            inicio = min(servidores) + 1\n",
    "            fin = inicio + t_servicio[i]\n",
    "            #Asignar servidor\n",
    "            c = servidores.tolist().index(min(servidores))\n",
    "            servidores[c] = fin\n",
    "        else:\n",
    "            inicio = t_llegadas[i]\n",
    "            fin = inicio + t_servicio[i]\n",
    "            #Asignar servidor\n",
    "            c = desocupados[0]\n",
    "            servidores[c] = fin\n",
    "\n",
    "        t_atencion.append(inicio.astype(int))\n",
    "\n",
    "    #------------------------------------------------------------------------\n",
    "\n",
    "    # Inicialización del vector temporal para registrar eventos\n",
    "    t = np.zeros(t_atencion[-1] + max(t_servicio) + 1)\n",
    "\n",
    "    # Asignación de eventos de llegada (+1) y salida (-1) de clientes\n",
    "    for c in range(N):\n",
    "        i = t_llegadas[c]\n",
    "        t[i] += 1\n",
    "        j = t_atencion[c] + t_servicio[c]\n",
    "        t[j] -= 1\n",
    "\n",
    "    # Umbral de P o más personas en sistema (hay P - 1 en fila)\n",
    "    P = 51\n",
    "\n",
    "    # Instantes (segundos) de tiempo con P o más solicitudes en sistema\n",
    "    exceso = 0\n",
    "\n",
    "    # Proceso aleatorio (estados n = {0, 1, 2...})\n",
    "    Xt = np.zeros(t.shape)\n",
    "\n",
    "    # Inicialización de estado n\n",
    "    n = 0\n",
    "\n",
    "    # Recorrido del vector temporal y conteo de clientes (estado n)\n",
    "    for i, c in enumerate(t):\n",
    "        n += c # sumar (+1) o restar (-1) al estado\n",
    "        Xt[i] = n\n",
    "        if Xt[i] >= P: \n",
    "            exceso += 1\n",
    "\n",
    "    # Fracción de tiempo con P o más solicitudes en sistema\n",
    "    fraccion = exceso / len(t)\n",
    "\n",
    "    # Resultados\n",
    "    print('Parámetro lambda =', str(lam*60))\n",
    "    print('Parámetro nu =', str(nu*60))\n",
    "    print('Tiempo con más de {} solicitudes en fila:'.format(P-2))\n",
    "    print('\\t {:0.2f}%'.format(100*fraccion))\n",
    "    if fraccion <= 0.01:\n",
    "        print('\\t Sí cumple con la especificación.')\n",
    "    else:\n",
    "        print('\\t No cumple con la especificación.') \n",
    "    print('Simulación es equivalente a {:0.2f} horas.'.format(len(t)/3600))\n",
    "\n",
    "    # Gráfica de X(t) (estados del sistema)\n",
    "    plt.figure()\n",
    "    plt.plot(Xt)\n",
    "    plt.plot(range(len(t)), (P-1)*np.ones(t.shape))\n",
    "    plt.legend(('$X(t) = n$', '$L_q = $' + str(P-2)))\n",
    "    plt.ylabel('Clientes en el sistema, $n$')\n",
    "    plt.xlabel('Tiempo, $t$ / segundos')\n",
    "    plt.xlim((0, 5000))\n",
    "    plt.show()"
   ]
  },
  {
   "cell_type": "code",
   "execution_count": 21,
   "metadata": {},
   "outputs": [
    {
     "name": "stdout",
     "output_type": "stream",
     "text": [
      "Parámetro lambda = 4.0\n",
      "Parámetro nu = 0.25\n",
      "Tiempo con más de 49 solicitudes en fila:\n",
      "\t 0.00%\n",
      "\t Sí cumple con la especificación.\n",
      "Simulación es equivalente a 4.82 horas.\n"
     ]
    },
    {
     "data": {
      "image/png": "[encoded data removed]",
      "text/plain": [
       "<Figure size 432x288 with 1 Axes>"
      ]
     },
     "metadata": {
      "needs_background": "light"
     },
     "output_type": "display_data"
    }
   ],
   "source": [
    "#Simulación para 17 servidores\n",
    "\n",
    "vacunacion(17)"
   ]
  },
  {
   "cell_type": "code",
   "execution_count": 13,
   "metadata": {},
   "outputs": [
    {
     "name": "stdout",
     "output_type": "stream",
     "text": [
      "Parámetro lambda = 4.0\n",
      "Parámetro nu = 0.25\n",
      "Tiempo con más de 49 solicitudes en fila:\n",
      "\t 68.52%\n",
      "\t No cumple con la especificación.\n",
      "Simulación es equivalente a 4.78 horas.\n"
     ]
    },
    {
     "data": {
      "image/png": "[encoded data removed]",
      "text/plain": [
       "<Figure size 432x288 with 1 Axes>"
      ]
     },
     "metadata": {
      "needs_background": "light"
     },
     "output_type": "display_data"
    }
   ],
   "source": [
    "#Simulación para 16 servidores\n",
    "\n",
    "vacunacion(16)"
   ]
  },
  {
   "cell_type": "markdown",
   "metadata": {},
   "source": [
    "Como se puede observar del las simulaciones realizadas para los diferentes casos, la cantidad mínima de servidores necesarios corresponden a 17 ya que cumple con la especificación dada y no sobrepasa el valor de umbral a diferencia del segundo caso simulado."
   ]
  },
  {
   "cell_type": "markdown",
   "metadata": {},
   "source": [
    "---\n",
    "\n",
    "**Universidad de Costa Rica**\n",
    "\n",
    "Facultad de Ingeniería\n",
    "\n",
    "Escuela de Ingeniería Eléctrica\n",
    "\n",
    "---"
   ]
  }
 ],
 "metadata": {
  "kernelspec": {
   "display_name": "Python 3",
   "language": "python",
   "name": "python3"
  },
  "language_info": {
   "codemirror_mode": {
    "name": "ipython",
    "version": 3
   },
   "file_extension": ".py",
   "mimetype": "text/x-python",
   "name": "python",
   "nbconvert_exporter": "python",
   "pygments_lexer": "ipython3",
   "version": "3.8.8"
  }
 },
 "nbformat": 4,
 "nbformat_minor": 2
}
